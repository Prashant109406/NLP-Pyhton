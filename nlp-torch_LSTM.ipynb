{
 "cells": [
  {
   "cell_type": "code",
   "execution_count": 2,
   "metadata": {},
   "outputs": [
    {
     "name": "stdout",
     "output_type": "stream",
     "text": [
      "Collecting torch\n",
      "  Downloading https://files.pythonhosted.org/packages/5d/9f/68a18d38927ccf56f30062344b2f1e439dc293610711958b249c0a1f7606/torch-1.7.1-cp37-cp37m-win_amd64.whl (184.1MB)\n",
      "Requirement already satisfied: numpy in c:\\users\\prashant mourya\\anaconda3\\lib\\site-packages (from torch) (1.16.5)\n",
      "Requirement already satisfied: typing-extensions in c:\\users\\prashant mourya\\anaconda3\\lib\\site-packages (from torch) (3.7.4.3)\n",
      "Installing collected packages: torch\n",
      "Successfully installed torch-1.7.1\n"
     ]
    }
   ],
   "source": [
    "!pip install torch\n",
    "import pandas as pd\n",
    "import numpy as np\n",
    "import matplotlib.pyplot as plt\n",
    "from string import punctuation\n",
    "from sklearn.metrics import accuracy_score\n",
    "import torch\n",
    "from torch import nn, optim\n",
    "import torch.nn.functional as F"
   ]
  },
  {
   "cell_type": "code",
   "execution_count": 4,
   "metadata": {},
   "outputs": [],
   "source": [
    "data = pd.read_csv(\"amazon_cells_labelled.txt\", sep=\"\\t\", \\\n",
    "                   header=None)\n",
    "reviews = data.iloc[:,0].str.lower()\n",
    "sentiment = data.iloc[:,1].values"
   ]
  },
  {
   "cell_type": "code",
   "execution_count": 5,
   "metadata": {},
   "outputs": [],
   "source": [
    "for i in punctuation:\n",
    "    reviews = reviews.str.replace(i,\"\")"
   ]
  },
  {
   "cell_type": "code",
   "execution_count": 6,
   "metadata": {},
   "outputs": [],
   "source": [
    "words = ' '.join(reviews)\n",
    "words = words.split()\n",
    "vocabulary = set(words)\n",
    "indexer = {word: index for (index, word) \\\n",
    "           in enumerate(vocabulary)}"
   ]
  },
  {
   "cell_type": "code",
   "execution_count": 7,
   "metadata": {},
   "outputs": [],
   "source": [
    "indexed_reviews = []\n",
    "for review in reviews:\n",
    "    indexed_reviews.append([indexer[word] \\\n",
    "                            for word in review.split()])"
   ]
  },
  {
   "cell_type": "code",
   "execution_count": 8,
   "metadata": {},
   "outputs": [],
   "source": [
    "class LSTM(nn.Module):\n",
    "    def __init__(self, vocab_size, embed_dim, \\\n",
    "                 hidden_size, n_layers):\n",
    "        super().__init__()\n",
    "        self.hidden_size = hidden_size\n",
    "        self.embedding = nn.Embedding(vocab_size, embed_dim)\n",
    "        self.lstm = nn.LSTM(embed_dim, hidden_size, \\\n",
    "                            n_layers, batch_first=True)\n",
    "        self.output = nn.Linear(hidden_size, 1)\n",
    "    def forward(self, x):\n",
    "        out = self.embedding(x)\n",
    "        out, _ = self.lstm(out)\n",
    "        out = out.contiguous().view(-1, self.hidden_size)\n",
    "        out = self.output(out)\n",
    "        out = out[-1,0]\n",
    "        out = torch.sigmoid(out).unsqueeze(0)\n",
    "        return out"
   ]
  },
  {
   "cell_type": "code",
   "execution_count": 31,
   "metadata": {},
   "outputs": [
    {
     "data": {
      "text/plain": [
       "LSTM(\n",
       "  (embedding): Embedding(1905, 64)\n",
       "  (lstm): LSTM(64, 128, num_layers=3, batch_first=True)\n",
       "  (output): Linear(in_features=128, out_features=1, bias=True)\n",
       ")"
      ]
     },
     "execution_count": 31,
     "metadata": {},
     "output_type": "execute_result"
    }
   ],
   "source": [
    "model = LSTM(len(vocabulary), 64, 128, 3)\n",
    "model"
   ]
  },
  {
   "cell_type": "code",
   "execution_count": 32,
   "metadata": {},
   "outputs": [],
   "source": [
    "loss_function = nn.BCELoss()\n",
    "optimizer = optim.Adam(model.parameters(), lr=0.001)\n",
    "epochs = 10"
   ]
  },
  {
   "cell_type": "code",
   "execution_count": 34,
   "metadata": {},
   "outputs": [
    {
     "name": "stdout",
     "output_type": "stream",
     "text": [
      "Epoch:  1 ... Loss function:  0.6692496327574644 ... Accuracy:  0.6167002012072434\n",
      "Epoch:  2 ... Loss function:  0.5767715798627203 ... Accuracy:  0.7072434607645876\n",
      "Epoch:  3 ... Loss function:  0.4495677265883901 ... Accuracy:  0.806841046277666\n",
      "Epoch:  4 ... Loss function:  0.3348444318670547 ... Accuracy:  0.8712273641851107\n",
      "Epoch:  5 ... Loss function:  0.2418621740513809 ... Accuracy:  0.9124748490945674\n",
      "Epoch:  6 ... Loss function:  0.1621171400724897 ... Accuracy:  0.9537223340040242\n",
      "Epoch:  7 ... Loss function:  0.10258442657143327 ... Accuracy:  0.9748490945674044\n",
      "Epoch:  8 ... Loss function:  0.08760947811813609 ... Accuracy:  0.9758551307847082\n",
      "Epoch:  9 ... Loss function:  0.06587850529602372 ... Accuracy:  0.9828973843058351\n",
      "Epoch:  10 ... Loss function:  0.049355582205271364 ... Accuracy:  0.9859154929577465\n"
     ]
    }
   ],
   "source": [
    "losses = []\n",
    "acc = []\n",
    "for e in range(1, epochs+1):\n",
    "    single_loss = []\n",
    "    preds = []\n",
    "    targets = []\n",
    "    for i, r in enumerate(indexed_reviews):\n",
    "        if len(r) <= 1:\n",
    "            continue\n",
    "        x = torch.Tensor([r]).long()\n",
    "        y = torch.Tensor([sentiment[i]])\n",
    "        pred = model(x)\n",
    "        loss = loss_function(pred, y)\n",
    "        optimizer.zero_grad()\n",
    "        loss.backward()\n",
    "        optimizer.step()\n",
    "        final_pred = np.round(pred.detach().numpy())\n",
    "        preds.append(final_pred)\n",
    "        targets.append(y)\n",
    "        single_loss.append(loss.item())\n",
    "    losses.append(np.mean(single_loss))\n",
    "    accuracy = accuracy_score(targets,preds)\n",
    "    acc.append(accuracy)\n",
    "    if e%1 == 0:\n",
    "        print(\"Epoch: \", e, \"... Loss function: \", losses[-1], \\\n",
    "              \"... Accuracy: \", acc[-1])\n",
    "\n"
   ]
  },
  {
   "cell_type": "code",
   "execution_count": 36,
   "metadata": {},
   "outputs": [
    {
     "data": {
      "image/png": "[encoded data removed]",
      "text/plain": [
       "<Figure size 432x288 with 1 Axes>"
      ]
     },
     "metadata": {
      "needs_background": "light"
     },
     "output_type": "display_data"
    }
   ],
   "source": [
    "x_range = range(len(losses))\n",
    "plt.plot(x_range, losses)\n",
    "plt.xlabel(\"epochs\")\n",
    "plt.ylabel(\"Loss function\")\n",
    "plt.show()"
   ]
  },
  {
   "cell_type": "code",
   "execution_count": 37,
   "metadata": {},
   "outputs": [
    {
     "data": {
      "image/png": "[encoded data removed]",
      "text/plain": [
       "<Figure size 432x288 with 1 Axes>"
      ]
     },
     "metadata": {
      "needs_background": "light"
     },
     "output_type": "display_data"
    }
   ],
   "source": [
    "x_range = range(len(acc))\n",
    "plt.plot(x_range, acc)\n",
    "plt.xlabel(\"epochs\")\n",
    "plt.ylabel(\"Accuracy score\")\n",
    "plt.show()"
   ]
  },
  {
   "cell_type": "code",
   "execution_count": null,
   "metadata": {},
   "outputs": [],
   "source": []
  }
 ],
 "metadata": {
  "kernelspec": {
   "display_name": "Python 3",
   "language": "python",
   "name": "python3"
  },
  "language_info": {
   "codemirror_mode": {
    "name": "ipython",
    "version": 3
   },
   "file_extension": ".py",
   "mimetype": "text/x-python",
   "name": "python",
   "nbconvert_exporter": "python",
   "pygments_lexer": "ipython3",
   "version": "3.7.4"
  }
 },
 "nbformat": 4,
 "nbformat_minor": 2
}
