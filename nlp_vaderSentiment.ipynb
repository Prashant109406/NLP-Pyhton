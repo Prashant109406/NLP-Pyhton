{
  "nbformat": 4,
  "nbformat_minor": 0,
  "metadata": {
    "colab": {
      "name": "nlp_week5_part2.ipynb",
      "provenance": []
    },
    "kernelspec": {
      "name": "python3",
      "display_name": "Python 3"
    }
  },
  "cells": [
    {
      "cell_type": "code",
      "metadata": {
        "colab": {
          "base_uri": "https://localhost:8080/"
        },
        "id": "dXkkSwLSiOyj",
        "outputId": "a8da250e-ebb8-48d2-dba8-706fecf855ec"
      },
      "source": [
        "pip install vaderSentiment"
      ],
      "execution_count": 1,
      "outputs": [
        {
          "output_type": "stream",
          "text": [
            "Collecting vaderSentiment\n",
            "\u001b[?25l  Downloading https://files.pythonhosted.org/packages/76/fc/310e16254683c1ed35eeb97386986d6c00bc29df17ce280aed64d55537e9/vaderSentiment-3.3.2-py2.py3-none-any.whl (125kB)\n",
            "\u001b[K     |████████████████████████████████| 133kB 4.1MB/s \n",
            "\u001b[?25hRequirement already satisfied: requests in /usr/local/lib/python3.7/dist-packages (from vaderSentiment) (2.23.0)\n",
            "Requirement already satisfied: chardet<4,>=3.0.2 in /usr/local/lib/python3.7/dist-packages (from requests->vaderSentiment) (3.0.4)\n",
            "Requirement already satisfied: certifi>=2017.4.17 in /usr/local/lib/python3.7/dist-packages (from requests->vaderSentiment) (2020.12.5)\n",
            "Requirement already satisfied: urllib3!=1.25.0,!=1.25.1,<1.26,>=1.21.1 in /usr/local/lib/python3.7/dist-packages (from requests->vaderSentiment) (1.24.3)\n",
            "Requirement already satisfied: idna<3,>=2.5 in /usr/local/lib/python3.7/dist-packages (from requests->vaderSentiment) (2.10)\n",
            "Installing collected packages: vaderSentiment\n",
            "Successfully installed vaderSentiment-3.3.2\n"
          ],
          "name": "stdout"
        }
      ]
    },
    {
      "cell_type": "code",
      "metadata": {
        "colab": {
          "base_uri": "https://localhost:8080/"
        },
        "id": "aDGXg06ujBj2",
        "outputId": "d1a28653-e0db-41c6-e9f4-ab9e25add052"
      },
      "source": [
        "\r\n",
        "# import SentimentIntensityAnalyzer class \r\n",
        "# from vaderSentiment.vaderSentiment module. \r\n",
        "from vaderSentiment.vaderSentiment import SentimentIntensityAnalyzer \r\n",
        "  \r\n",
        "# function to print sentiments \r\n",
        "# of the sentence. \r\n",
        "def sentiment_scores(sentence): \r\n",
        "  \r\n",
        "    # Create a SentimentIntensityAnalyzer object. \r\n",
        "    sid_obj = SentimentIntensityAnalyzer() \r\n",
        "  \r\n",
        "    # polarity_scores method of SentimentIntensityAnalyzer \r\n",
        "    # oject gives a sentiment dictionary. \r\n",
        "    # which contains pos, neg, neu, and compound scores. \r\n",
        "    sentiment_dict = sid_obj.polarity_scores(sentence) \r\n",
        "      \r\n",
        "    print(\"Overall sentiment dictionary is : \", sentiment_dict) \r\n",
        "    print(\"sentence was rated as \", sentiment_dict['neg']*100, \"% Negative\") \r\n",
        "    print(\"sentence was rated as \", sentiment_dict['neu']*100, \"% Neutral\") \r\n",
        "    print(\"sentence was rated as \", sentiment_dict['pos']*100, \"% Positive\") \r\n",
        "  \r\n",
        "    print(\"Sentence Overall Rated As\", end = \" \") \r\n",
        "  \r\n",
        "    # decide sentiment as positive, negative and neutral \r\n",
        "    if sentiment_dict['compound'] >= 0.05 : \r\n",
        "        print(\"Positive\") \r\n",
        "  \r\n",
        "    elif sentiment_dict['compound'] <= - 0.05 : \r\n",
        "        print(\"Negative\") \r\n",
        "  \r\n",
        "    else : \r\n",
        "        print(\"Neutral\") \r\n",
        "  \r\n",
        "  \r\n",
        "    \r\n",
        "# Driver code \r\n",
        "if __name__ == \"__main__\" : \r\n",
        "\r\n",
        "    sentence = str(open(\"spacex.txt\", \"r\").read())\r\n",
        "\r\n",
        "  \r\n",
        "    # function calling \r\n",
        "    sentiment_scores(sentence) \r\n",
        "  "
      ],
      "execution_count": 4,
      "outputs": [
        {
          "output_type": "stream",
          "text": [
            "\n",
            "1st statement :\n",
            "Overall sentiment dictionary is :  {'neg': 0.047, 'neu': 0.877, 'pos': 0.076, 'compound': 1.0}\n",
            "sentence was rated as  4.7 % Negative\n",
            "sentence was rated as  87.7 % Neutral\n",
            "sentence was rated as  7.6 % Positive\n",
            "Sentence Overall Rated As Positive\n"
          ],
          "name": "stdout"
        }
      ]
    },
    {
      "cell_type": "code",
      "metadata": {
        "id": "tTl95U4Sjbr1"
      },
      "source": [
        "from textblob import TextBlob"
      ],
      "execution_count": 5,
      "outputs": []
    },
    {
      "cell_type": "code",
      "metadata": {
        "colab": {
          "base_uri": "https://localhost:8080/"
        },
        "id": "rt5BRsmUkwb7",
        "outputId": "9aea7101-f8a5-446a-b8ed-ed0802659f46"
      },
      "source": [
        "analysis = TextBlob(sentence).sentiment\r\n",
        "print(analysis)"
      ],
      "execution_count": 6,
      "outputs": [
        {
          "output_type": "stream",
          "text": [
            "Sentiment(polarity=0.07758178365698393, subjectivity=0.4410466259483019)\n"
          ],
          "name": "stdout"
        }
      ]
    },
    {
      "cell_type": "code",
      "metadata": {
        "id": "gaq0KLQGkzZG"
      },
      "source": [
        "#  subjectivity/objectivity identification task reports a float within the range [0.0, 1.0] where 0.0 is a very objective sentence and 1.0 is very subjective.\r\n",
        "#  As per the result the text is objective."
      ],
      "execution_count": null,
      "outputs": []
    }
  ]
}