{
 "cells": [
  {
   "cell_type": "code",
   "execution_count": 43,
   "metadata": {},
   "outputs": [],
   "source": [
    "import re"
   ]
  },
  {
   "cell_type": "code",
   "execution_count": 44,
   "metadata": {},
   "outputs": [],
   "source": [
    "sentence = '''The larger Broncos will be available with 35-inch off-road tires and will be able to drive through water nearly 3 feet, 10 inches deep. It has independent front suspension, unlike its main competitor, the Jeep Wrangler. Independent suspension, used on almost all modern passenger vehicles, generally provides a smoother ride and better onroad handling than a single solid axle. It still has a solid axle in the back though, like most pickup trucks, a design suited to hard use. Like the Wrangler, both the two- and four-door Bronco will have a removable roofs and doors. Buyers will be able to choose either a hard roof that can be removed in sections, a cloth top, or both. Unlike the Wrangler, though, the Bronco's doors will fit inside the vehicle after being removed. The Bronco will be available with a choice of either a 10-speed automatic or seven-speed manual transmission. (The manual transmission will have six gears for ordinary driving, plus a seventh for low speed off-road driving.) It will be powered by either a 270- horsepower 2.3-liter turbocharged 4-cylinder engine or a 310-horsepower 2.7-liter turbocharged V6. While all of the new Bronco SUVs are designed for hard off-road use, the Bronco Sport isn't quite as hard-core in its capabilities. It also has more convenience features than the more truck-like Bronco. While it's based on engineering that's similar to car-like crossover SUVs, Ford says that it's still intended for serious off-road use. Ford engineers boasted of the off-road testing the prototypes have been put through, including driving through deep sand, up steep inclines and crawling across boulder-strewn trails.'''"
   ]
  },
  {
   "cell_type": "code",
   "execution_count": 45,
   "metadata": {},
   "outputs": [],
   "source": [
    "rep= re.sub('[^a-zA-Z0-9\\n\\.]', ' ', sentence)"
   ]
  },
  {
   "cell_type": "code",
   "execution_count": 46,
   "metadata": {},
   "outputs": [
    {
     "data": {
      "text/plain": [
       "'The larger Broncos will be available with 35 inch off road tires and will be able to drive through water nearly 3 feet  10 inches deep. It has independent front suspension  unlike its main competitor  the Jeep Wrangler. Independent suspension  used on almost all modern passenger vehicles  generally provides a smoother ride and better onroad handling than a single solid axle. It still has a solid axle in the back though  like most pickup trucks  a design suited to hard use. Like the Wrangler  both the two  and four door Bronco will have a removable roofs and doors. Buyers will be able to choose either a hard roof that can be removed in sections  a cloth top  or both. Unlike the Wrangler  though  the Bronco s doors will fit inside the vehicle after being removed. The Bronco will be available with a choice of either a 10 speed automatic or seven speed manual transmission.  The manual transmission will have six gears for ordinary driving  plus a seventh for low speed off road driving.  It will be powered by either a 270  horsepower 2.3 liter turbocharged 4 cylinder engine or a 310 horsepower 2.7 liter turbocharged V6. While all of the new Bronco SUVs are designed for hard off road use  the Bronco Sport isn t quite as hard core in its capabilities. It also has more convenience features than the more truck like Bronco. While it s based on engineering that s similar to car like crossover SUVs  Ford says that it s still intended for serious off road use. Ford engineers boasted of the off road testing the prototypes have been put through  including driving through deep sand  up steep inclines and crawling across boulder strewn trails.'"
      ]
     },
     "execution_count": 46,
     "metadata": {},
     "output_type": "execute_result"
    }
   ],
   "source": [
    "rep"
   ]
  },
  {
   "cell_type": "code",
   "execution_count": 47,
   "metadata": {},
   "outputs": [],
   "source": [
    "#2. Remove multiple empty spaces and replace them by a single space\n",
    "rep2=re.sub('\\s+',' ',rep)\n"
   ]
  },
  {
   "cell_type": "code",
   "execution_count": 48,
   "metadata": {},
   "outputs": [
    {
     "data": {
      "text/plain": [
       "'The larger Broncos will be available with 35 inch off road tires and will be able to drive through water nearly 3 feet 10 inches deep. It has independent front suspension unlike its main competitor the Jeep Wrangler. Independent suspension used on almost all modern passenger vehicles generally provides a smoother ride and better onroad handling than a single solid axle. It still has a solid axle in the back though like most pickup trucks a design suited to hard use. Like the Wrangler both the two and four door Bronco will have a removable roofs and doors. Buyers will be able to choose either a hard roof that can be removed in sections a cloth top or both. Unlike the Wrangler though the Bronco s doors will fit inside the vehicle after being removed. The Bronco will be available with a choice of either a 10 speed automatic or seven speed manual transmission. The manual transmission will have six gears for ordinary driving plus a seventh for low speed off road driving. It will be powered by either a 270 horsepower 2.3 liter turbocharged 4 cylinder engine or a 310 horsepower 2.7 liter turbocharged V6. While all of the new Bronco SUVs are designed for hard off road use the Bronco Sport isn t quite as hard core in its capabilities. It also has more convenience features than the more truck like Bronco. While it s based on engineering that s similar to car like crossover SUVs Ford says that it s still intended for serious off road use. Ford engineers boasted of the off road testing the prototypes have been put through including driving through deep sand up steep inclines and crawling across boulder strewn trails.'"
      ]
     },
     "execution_count": 48,
     "metadata": {},
     "output_type": "execute_result"
    }
   ],
   "source": [
    "rep2"
   ]
  },
  {
   "cell_type": "code",
   "execution_count": 49,
   "metadata": {},
   "outputs": [],
   "source": [
    "pattern = r\"((?<=^)|(?<= )).((?=$)|(?= ))\"\n",
    "r3= re.sub(\"\\s+\", \" \", re.sub(pattern, '', rep2).strip())"
   ]
  },
  {
   "cell_type": "code",
   "execution_count": 50,
   "metadata": {},
   "outputs": [
    {
     "data": {
      "text/plain": [
       "'The larger Broncos will be available with 35 inch off road tires and will be able to drive through water nearly feet 10 inches deep. It has independent front suspension unlike its main competitor the Jeep Wrangler. Independent suspension used on almost all modern passenger vehicles generally provides smoother ride and better onroad handling than single solid axle. It still has solid axle in the back though like most pickup trucks design suited to hard use. Like the Wrangler both the two and four door Bronco will have removable roofs and doors. Buyers will be able to choose either hard roof that can be removed in sections cloth top or both. Unlike the Wrangler though the Bronco doors will fit inside the vehicle after being removed. The Bronco will be available with choice of either 10 speed automatic or seven speed manual transmission. The manual transmission will have six gears for ordinary driving plus seventh for low speed off road driving. It will be powered by either 270 horsepower 2.3 liter turbocharged cylinder engine or 310 horsepower 2.7 liter turbocharged V6. While all of the new Bronco SUVs are designed for hard off road use the Bronco Sport isn quite as hard core in its capabilities. It also has more convenience features than the more truck like Bronco. While it based on engineering that similar to car like crossover SUVs Ford says that it still intended for serious off road use. Ford engineers boasted of the off road testing the prototypes have been put through including driving through deep sand up steep inclines and crawling across boulder strewn trails.'"
      ]
     },
     "execution_count": 50,
     "metadata": {},
     "output_type": "execute_result"
    }
   ],
   "source": [
    "r3"
   ]
  },
  {
   "cell_type": "code",
   "execution_count": 53,
   "metadata": {},
   "outputs": [],
   "source": [
    "r4=r3.lower()"
   ]
  },
  {
   "cell_type": "code",
   "execution_count": 54,
   "metadata": {},
   "outputs": [
    {
     "data": {
      "text/plain": [
       "'the larger broncos will be available with 35 inch off road tires and will be able to drive through water nearly feet 10 inches deep. it has independent front suspension unlike its main competitor the jeep wrangler. independent suspension used on almost all modern passenger vehicles generally provides smoother ride and better onroad handling than single solid axle. it still has solid axle in the back though like most pickup trucks design suited to hard use. like the wrangler both the two and four door bronco will have removable roofs and doors. buyers will be able to choose either hard roof that can be removed in sections cloth top or both. unlike the wrangler though the bronco doors will fit inside the vehicle after being removed. the bronco will be available with choice of either 10 speed automatic or seven speed manual transmission. the manual transmission will have six gears for ordinary driving plus seventh for low speed off road driving. it will be powered by either 270 horsepower 2.3 liter turbocharged cylinder engine or 310 horsepower 2.7 liter turbocharged v6. while all of the new bronco suvs are designed for hard off road use the bronco sport isn quite as hard core in its capabilities. it also has more convenience features than the more truck like bronco. while it based on engineering that similar to car like crossover suvs ford says that it still intended for serious off road use. ford engineers boasted of the off road testing the prototypes have been put through including driving through deep sand up steep inclines and crawling across boulder strewn trails.'"
      ]
     },
     "execution_count": 54,
     "metadata": {},
     "output_type": "execute_result"
    }
   ],
   "source": [
    "r4"
   ]
  },
  {
   "cell_type": "code",
   "execution_count": 55,
   "metadata": {},
   "outputs": [],
   "source": [
    "#Split the text to individual words\n",
    "r5=r4.split(\" \")\n"
   ]
  },
  {
   "cell_type": "code",
   "execution_count": 56,
   "metadata": {},
   "outputs": [
    {
     "data": {
      "text/plain": [
       "['the',\n",
       " 'larger',\n",
       " 'broncos',\n",
       " 'will',\n",
       " 'be',\n",
       " 'available',\n",
       " 'with',\n",
       " '35',\n",
       " 'inch',\n",
       " 'off',\n",
       " 'road',\n",
       " 'tires',\n",
       " 'and',\n",
       " 'will',\n",
       " 'be',\n",
       " 'able',\n",
       " 'to',\n",
       " 'drive',\n",
       " 'through',\n",
       " 'water',\n",
       " 'nearly',\n",
       " 'feet',\n",
       " '10',\n",
       " 'inches',\n",
       " 'deep.',\n",
       " 'it',\n",
       " 'has',\n",
       " 'independent',\n",
       " 'front',\n",
       " 'suspension',\n",
       " 'unlike',\n",
       " 'its',\n",
       " 'main',\n",
       " 'competitor',\n",
       " 'the',\n",
       " 'jeep',\n",
       " 'wrangler.',\n",
       " 'independent',\n",
       " 'suspension',\n",
       " 'used',\n",
       " 'on',\n",
       " 'almost',\n",
       " 'all',\n",
       " 'modern',\n",
       " 'passenger',\n",
       " 'vehicles',\n",
       " 'generally',\n",
       " 'provides',\n",
       " 'smoother',\n",
       " 'ride',\n",
       " 'and',\n",
       " 'better',\n",
       " 'onroad',\n",
       " 'handling',\n",
       " 'than',\n",
       " 'single',\n",
       " 'solid',\n",
       " 'axle.',\n",
       " 'it',\n",
       " 'still',\n",
       " 'has',\n",
       " 'solid',\n",
       " 'axle',\n",
       " 'in',\n",
       " 'the',\n",
       " 'back',\n",
       " 'though',\n",
       " 'like',\n",
       " 'most',\n",
       " 'pickup',\n",
       " 'trucks',\n",
       " 'design',\n",
       " 'suited',\n",
       " 'to',\n",
       " 'hard',\n",
       " 'use.',\n",
       " 'like',\n",
       " 'the',\n",
       " 'wrangler',\n",
       " 'both',\n",
       " 'the',\n",
       " 'two',\n",
       " 'and',\n",
       " 'four',\n",
       " 'door',\n",
       " 'bronco',\n",
       " 'will',\n",
       " 'have',\n",
       " 'removable',\n",
       " 'roofs',\n",
       " 'and',\n",
       " 'doors.',\n",
       " 'buyers',\n",
       " 'will',\n",
       " 'be',\n",
       " 'able',\n",
       " 'to',\n",
       " 'choose',\n",
       " 'either',\n",
       " 'hard',\n",
       " 'roof',\n",
       " 'that',\n",
       " 'can',\n",
       " 'be',\n",
       " 'removed',\n",
       " 'in',\n",
       " 'sections',\n",
       " 'cloth',\n",
       " 'top',\n",
       " 'or',\n",
       " 'both.',\n",
       " 'unlike',\n",
       " 'the',\n",
       " 'wrangler',\n",
       " 'though',\n",
       " 'the',\n",
       " 'bronco',\n",
       " 'doors',\n",
       " 'will',\n",
       " 'fit',\n",
       " 'inside',\n",
       " 'the',\n",
       " 'vehicle',\n",
       " 'after',\n",
       " 'being',\n",
       " 'removed.',\n",
       " 'the',\n",
       " 'bronco',\n",
       " 'will',\n",
       " 'be',\n",
       " 'available',\n",
       " 'with',\n",
       " 'choice',\n",
       " 'of',\n",
       " 'either',\n",
       " '10',\n",
       " 'speed',\n",
       " 'automatic',\n",
       " 'or',\n",
       " 'seven',\n",
       " 'speed',\n",
       " 'manual',\n",
       " 'transmission.',\n",
       " 'the',\n",
       " 'manual',\n",
       " 'transmission',\n",
       " 'will',\n",
       " 'have',\n",
       " 'six',\n",
       " 'gears',\n",
       " 'for',\n",
       " 'ordinary',\n",
       " 'driving',\n",
       " 'plus',\n",
       " 'seventh',\n",
       " 'for',\n",
       " 'low',\n",
       " 'speed',\n",
       " 'off',\n",
       " 'road',\n",
       " 'driving.',\n",
       " 'it',\n",
       " 'will',\n",
       " 'be',\n",
       " 'powered',\n",
       " 'by',\n",
       " 'either',\n",
       " '270',\n",
       " 'horsepower',\n",
       " '2.3',\n",
       " 'liter',\n",
       " 'turbocharged',\n",
       " 'cylinder',\n",
       " 'engine',\n",
       " 'or',\n",
       " '310',\n",
       " 'horsepower',\n",
       " '2.7',\n",
       " 'liter',\n",
       " 'turbocharged',\n",
       " 'v6.',\n",
       " 'while',\n",
       " 'all',\n",
       " 'of',\n",
       " 'the',\n",
       " 'new',\n",
       " 'bronco',\n",
       " 'suvs',\n",
       " 'are',\n",
       " 'designed',\n",
       " 'for',\n",
       " 'hard',\n",
       " 'off',\n",
       " 'road',\n",
       " 'use',\n",
       " 'the',\n",
       " 'bronco',\n",
       " 'sport',\n",
       " 'isn',\n",
       " 'quite',\n",
       " 'as',\n",
       " 'hard',\n",
       " 'core',\n",
       " 'in',\n",
       " 'its',\n",
       " 'capabilities.',\n",
       " 'it',\n",
       " 'also',\n",
       " 'has',\n",
       " 'more',\n",
       " 'convenience',\n",
       " 'features',\n",
       " 'than',\n",
       " 'the',\n",
       " 'more',\n",
       " 'truck',\n",
       " 'like',\n",
       " 'bronco.',\n",
       " 'while',\n",
       " 'it',\n",
       " 'based',\n",
       " 'on',\n",
       " 'engineering',\n",
       " 'that',\n",
       " 'similar',\n",
       " 'to',\n",
       " 'car',\n",
       " 'like',\n",
       " 'crossover',\n",
       " 'suvs',\n",
       " 'ford',\n",
       " 'says',\n",
       " 'that',\n",
       " 'it',\n",
       " 'still',\n",
       " 'intended',\n",
       " 'for',\n",
       " 'serious',\n",
       " 'off',\n",
       " 'road',\n",
       " 'use.',\n",
       " 'ford',\n",
       " 'engineers',\n",
       " 'boasted',\n",
       " 'of',\n",
       " 'the',\n",
       " 'off',\n",
       " 'road',\n",
       " 'testing',\n",
       " 'the',\n",
       " 'prototypes',\n",
       " 'have',\n",
       " 'been',\n",
       " 'put',\n",
       " 'through',\n",
       " 'including',\n",
       " 'driving',\n",
       " 'through',\n",
       " 'deep',\n",
       " 'sand',\n",
       " 'up',\n",
       " 'steep',\n",
       " 'inclines',\n",
       " 'and',\n",
       " 'crawling',\n",
       " 'across',\n",
       " 'boulder',\n",
       " 'strewn',\n",
       " 'trails.']"
      ]
     },
     "execution_count": 56,
     "metadata": {},
     "output_type": "execute_result"
    }
   ],
   "source": [
    "r5"
   ]
  },
  {
   "cell_type": "code",
   "execution_count": 57,
   "metadata": {},
   "outputs": [
    {
     "name": "stdout",
     "output_type": "stream",
     "text": [
      "['larger', 'broncos', 'available', '35', 'inch', 'road', 'tires', 'able', 'drive', 'water', 'nearly', 'feet', '10', 'inches', 'deep.', 'independent', 'front', 'suspension', 'unlike', 'main', 'competitor', 'jeep', 'wrangler.', 'independent', 'suspension', 'used', 'almost', 'modern', 'passenger', 'vehicles', 'generally', 'provides', 'smoother', 'ride', 'better', 'onroad', 'handling', 'single', 'solid', 'axle.', 'still', 'solid', 'axle', 'back', 'though', 'like', 'pickup', 'trucks', 'design', 'suited', 'hard', 'use.', 'like', 'wrangler', 'two', 'four', 'bronco', 'removable', 'roofs', 'doors.', 'buyers', 'able', 'choose', 'either', 'hard', 'roof', 'removed', 'sections', 'cloth', 'top', 'both.', 'unlike', 'wrangler', 'though', 'bronco', 'doors', 'fit', 'inside', 'vehicle', 'removed.', 'bronco', 'available', 'choice', 'either', '10', 'speed', 'automatic', 'seven', 'speed', 'manual', 'transmission.', 'manual', 'transmission', 'six', 'gears', 'ordinary', 'driving', 'plus', 'seventh', 'low', 'speed', 'road', 'driving.', 'powered', 'either', '270', 'horsepower', '2.3', 'liter', 'turbocharged', 'cylinder', 'engine', '310', 'horsepower', '2.7', 'liter', 'turbocharged', 'v6.', 'new', 'bronco', 'suvs', 'designed', 'hard', 'road', 'use', 'bronco', 'sport', 'quite', 'hard', 'core', 'capabilities.', 'convenience', 'features', 'truck', 'like', 'bronco.', 'based', 'engineering', 'similar', 'car', 'like', 'crossover', 'suvs', 'ford', 'says', 'still', 'intended', 'serious', 'road', 'use.', 'ford', 'engineers', 'boasted', 'road', 'testing', 'prototypes', 'put', 'including', 'driving', 'deep', 'sand', 'steep', 'inclines', 'crawling', 'across', 'boulder', 'strewn', 'trails.']\n"
     ]
    }
   ],
   "source": [
    " #Remove stopwords \n",
    "      \n",
    "from nltk.corpus import stopwords  \n",
    "from nltk.tokenize import word_tokenize  \n",
    "  \n",
    "without_sw = [word for word in r5 if not word in stopwords.words()]\n",
    "\n",
    "print(without_sw)"
   ]
  },
  {
   "cell_type": "code",
   "execution_count": 58,
   "metadata": {},
   "outputs": [],
   "source": [
    "import nltk\n",
    "from nltk.tokenize import word_tokenize,sent_tokenize"
   ]
  },
  {
   "cell_type": "code",
   "execution_count": 59,
   "metadata": {},
   "outputs": [
    {
     "name": "stdout",
     "output_type": "stream",
     "text": [
      "The number of sentences is 14\n",
      "The number of tokens is 1594\n",
      "The average number of tokens per sentence is 20\n",
      "The number of unique tokens are 158\n",
      "The number of total tokens after removing stopwords are 183\n",
      "['larger', 'broncos', 'available', '35', 'inch', 'road', 'tires', 'able', 'drive', 'water', 'nearly', 'feet', '10', 'inches', 'deep', '.', 'independent', 'front', 'suspension', 'unlike', 'main', 'competitor', 'jeep', 'wrangler', '.', 'independent', 'suspension', 'used', 'almost', 'modern', 'passenger', 'vehicles', 'generally', 'provides', 'smoother', 'ride', 'better', 'onroad', 'handling', 'single', 'solid', 'axle', '.', 'still', 'solid', 'axle', 'back', 'though', 'like', 'pickup', 'trucks', 'design', 'suited', 'hard', 'use', '.', 'like', 'wrangler', 'two', 'four', 'door', 'bronco', 'removable', 'roofs', 'doors', '.', 'buyers', 'able', 'choose', 'either', 'hard', 'roof', 'removed', 'sections', 'cloth', 'top', '.', 'unlike', 'wrangler', 'though', 'bronco', 'doors', 'fit', 'inside', 'vehicle', 'removed', '.', 'bronco', 'available', 'choice', 'either', '10', 'speed', 'automatic', 'seven', 'speed', 'manual', 'transmission', '.', 'manual', 'transmission', 'six', 'gears', 'ordinary', 'driving', 'plus', 'seventh', 'low', 'speed', 'road', 'driving', '.', 'powered', 'either', '270', 'horsepower', '2.3', 'liter', 'turbocharged', 'cylinder', 'engine', '310', 'horsepower', '2.7', 'liter', 'turbocharged', 'v6', '.', 'new', 'bronco', 'suvs', 'designed', 'hard', 'road', 'use', 'bronco', 'sport', 'quite', 'hard', 'core', 'capabilities', '.', 'also', 'convenience', 'features', 'truck', 'like', 'bronco', '.', 'based', 'engineering', 'similar', 'car', 'like', 'crossover', 'suvs', 'ford', 'says', 'still', 'intended', 'serious', 'road', 'use', '.', 'ford', 'engineers', 'boasted', 'road', 'testing', 'prototypes', 'put', 'including', 'driving', 'deep', 'sand', 'steep', 'inclines', 'crawling', 'across', 'boulder', 'strewn', 'trails', '.']\n"
     ]
    }
   ],
   "source": [
    "sents = nltk.sent_tokenize(r4)\n",
    "print(\"The number of sentences is\", len(sents))\n",
    "words = nltk.word_tokenize(r4)\n",
    "print(\"The number of tokens is\", len(r4))\n",
    "average_tokens = round(len(words)/len(sents))\n",
    "print(\"The average number of tokens per sentence is\",average_tokens)\n",
    "unique_tokens = set(words)\n",
    "print(\"The number of unique tokens are\", len(unique_tokens))\n",
    "from nltk.corpus import stopwords\n",
    "stop_words = set(stopwords.words('english'))\n",
    "final_tokens = []\n",
    "for each in words:\n",
    " if each not in stop_words:\n",
    "    final_tokens.append(each)\n",
    "print(\"The number of total tokens after removing stopwords are\", len((final_tokens)))\n",
    "print(final_tokens)"
   ]
  },
  {
   "cell_type": "code",
   "execution_count": 60,
   "metadata": {},
   "outputs": [],
   "source": [
    "from nltk.stem import PorterStemmer"
   ]
  },
  {
   "cell_type": "code",
   "execution_count": 61,
   "metadata": {},
   "outputs": [
    {
     "name": "stdout",
     "output_type": "stream",
     "text": [
      "Porter stemmed words:  ['larger', 'bronco', 'avail', '35', 'inch', 'road', 'tire', 'abl', 'drive', 'water', 'nearli', 'feet', '10', 'inch', 'deep.', 'independ', 'front', 'suspens', 'unlik', 'main', 'competitor', 'jeep', 'wrangler.', 'independ', 'suspens', 'use', 'almost', 'modern', 'passeng', 'vehicl', 'gener', 'provid', 'smoother', 'ride', 'better', 'onroad', 'handl', 'singl', 'solid', 'axle.', 'still', 'solid', 'axl', 'back', 'though', 'like', 'pickup', 'truck', 'design', 'suit', 'hard', 'use.', 'like', 'wrangler', 'two', 'four', 'bronco', 'remov', 'roof', 'doors.', 'buyer', 'abl', 'choos', 'either', 'hard', 'roof', 'remov', 'section', 'cloth', 'top', 'both.', 'unlik', 'wrangler', 'though', 'bronco', 'door', 'fit', 'insid', 'vehicl', 'removed.', 'bronco', 'avail', 'choic', 'either', '10', 'speed', 'automat', 'seven', 'speed', 'manual', 'transmission.', 'manual', 'transmiss', 'six', 'gear', 'ordinari', 'drive', 'plu', 'seventh', 'low', 'speed', 'road', 'driving.', 'power', 'either', '270', 'horsepow', '2.3', 'liter', 'turbocharg', 'cylind', 'engin', '310', 'horsepow', '2.7', 'liter', 'turbocharg', 'v6.', 'new', 'bronco', 'suv', 'design', 'hard', 'road', 'use', 'bronco', 'sport', 'quit', 'hard', 'core', 'capabilities.', 'conveni', 'featur', 'truck', 'like', 'bronco.', 'base', 'engin', 'similar', 'car', 'like', 'crossov', 'suv', 'ford', 'say', 'still', 'intend', 'seriou', 'road', 'use.', 'ford', 'engin', 'boast', 'road', 'test', 'prototyp', 'put', 'includ', 'drive', 'deep', 'sand', 'steep', 'inclin', 'crawl', 'across', 'boulder', 'strewn', 'trails.']\n"
     ]
    }
   ],
   "source": [
    "stemmer_ps = PorterStemmer()  \n",
    "stemmed_words_ps = [stemmer_ps.stem(word) for word in without_sw]\n",
    "print(\"Porter stemmed words: \", stemmed_words_ps)"
   ]
  },
  {
   "cell_type": "code",
   "execution_count": 62,
   "metadata": {},
   "outputs": [],
   "source": [
    "from nltk.stem import SnowballStemmer "
   ]
  },
  {
   "cell_type": "code",
   "execution_count": 63,
   "metadata": {},
   "outputs": [
    {
     "name": "stdout",
     "output_type": "stream",
     "text": [
      "Snowball stemmed words:  ['larger', 'bronco', 'avail', '35', 'inch', 'road', 'tire', 'abl', 'drive', 'water', 'near', 'feet', '10', 'inch', 'deep.', 'independ', 'front', 'suspens', 'unlik', 'main', 'competitor', 'jeep', 'wrangler.', 'independ', 'suspens', 'use', 'almost', 'modern', 'passeng', 'vehicl', 'general', 'provid', 'smoother', 'ride', 'better', 'onroad', 'handl', 'singl', 'solid', 'axle.', 'still', 'solid', 'axl', 'back', 'though', 'like', 'pickup', 'truck', 'design', 'suit', 'hard', 'use.', 'like', 'wrangler', 'two', 'four', 'bronco', 'remov', 'roof', 'doors.', 'buyer', 'abl', 'choos', 'either', 'hard', 'roof', 'remov', 'section', 'cloth', 'top', 'both.', 'unlik', 'wrangler', 'though', 'bronco', 'door', 'fit', 'insid', 'vehicl', 'removed.', 'bronco', 'avail', 'choic', 'either', '10', 'speed', 'automat', 'seven', 'speed', 'manual', 'transmission.', 'manual', 'transmiss', 'six', 'gear', 'ordinari', 'drive', 'plus', 'seventh', 'low', 'speed', 'road', 'driving.', 'power', 'either', '270', 'horsepow', '2.3', 'liter', 'turbocharg', 'cylind', 'engin', '310', 'horsepow', '2.7', 'liter', 'turbocharg', 'v6.', 'new', 'bronco', 'suv', 'design', 'hard', 'road', 'use', 'bronco', 'sport', 'quit', 'hard', 'core', 'capabilities.', 'conveni', 'featur', 'truck', 'like', 'bronco.', 'base', 'engin', 'similar', 'car', 'like', 'crossov', 'suv', 'ford', 'say', 'still', 'intend', 'serious', 'road', 'use.', 'ford', 'engin', 'boast', 'road', 'test', 'prototyp', 'put', 'includ', 'drive', 'deep', 'sand', 'steep', 'inclin', 'crawl', 'across', 'boulder', 'strewn', 'trails.']\n"
     ]
    }
   ],
   "source": [
    "stemmer_ss = SnowballStemmer(\"english\")   \n",
    "stemmed_words_ss = [stemmer_ss.stem(word) for word in without_sw]\n",
    "print(\"Snowball stemmed words: \", stemmed_words_ss)"
   ]
  },
  {
   "cell_type": "code",
   "execution_count": 64,
   "metadata": {},
   "outputs": [
    {
     "name": "stdout",
     "output_type": "stream",
     "text": [
      "[nltk_data] Downloading package wordnet to C:\\Users\\Prashant\n",
      "[nltk_data]     Mourya\\AppData\\Roaming\\nltk_data...\n",
      "[nltk_data]   Package wordnet is already up-to-date!\n"
     ]
    },
    {
     "data": {
      "text/plain": [
       "True"
      ]
     },
     "execution_count": 64,
     "metadata": {},
     "output_type": "execute_result"
    }
   ],
   "source": [
    "from nltk.stem import WordNetLemmatizer\n",
    "nltk.download('wordnet') "
   ]
  },
  {
   "cell_type": "code",
   "execution_count": 65,
   "metadata": {},
   "outputs": [
    {
     "name": "stdout",
     "output_type": "stream",
     "text": [
      "The lemmatized words:  ['larger', 'bronco', 'available', '35', 'inch', 'road', 'tire', 'able', 'drive', 'water', 'nearly', 'foot', '10', 'inch', 'deep.', 'independent', 'front', 'suspension', 'unlike', 'main', 'competitor', 'jeep', 'wrangler.', 'independent', 'suspension', 'used', 'almost', 'modern', 'passenger', 'vehicle', 'generally', 'provides', 'smoother', 'ride', 'better', 'onroad', 'handling', 'single', 'solid', 'axle.', 'still', 'solid', 'axle', 'back', 'though', 'like', 'pickup', 'truck', 'design', 'suited', 'hard', 'use.', 'like', 'wrangler', 'two', 'four', 'bronco', 'removable', 'roof', 'doors.', 'buyer', 'able', 'choose', 'either', 'hard', 'roof', 'removed', 'section', 'cloth', 'top', 'both.', 'unlike', 'wrangler', 'though', 'bronco', 'door', 'fit', 'inside', 'vehicle', 'removed.', 'bronco', 'available', 'choice', 'either', '10', 'speed', 'automatic', 'seven', 'speed', 'manual', 'transmission.', 'manual', 'transmission', 'six', 'gear', 'ordinary', 'driving', 'plus', 'seventh', 'low', 'speed', 'road', 'driving.', 'powered', 'either', '270', 'horsepower', '2.3', 'liter', 'turbocharged', 'cylinder', 'engine', '310', 'horsepower', '2.7', 'liter', 'turbocharged', 'v6.', 'new', 'bronco', 'suv', 'designed', 'hard', 'road', 'use', 'bronco', 'sport', 'quite', 'hard', 'core', 'capabilities.', 'convenience', 'feature', 'truck', 'like', 'bronco.', 'based', 'engineering', 'similar', 'car', 'like', 'crossover', 'suv', 'ford', 'say', 'still', 'intended', 'serious', 'road', 'use.', 'ford', 'engineer', 'boasted', 'road', 'testing', 'prototype', 'put', 'including', 'driving', 'deep', 'sand', 'steep', 'incline', 'crawling', 'across', 'boulder', 'strewn', 'trails.']\n"
     ]
    }
   ],
   "source": [
    "lemmatizer = WordNetLemmatizer()   \n",
    "lemmatized_words = [lemmatizer.lemmatize(word) for word in without_sw] \n",
    "print(\"The lemmatized words: \", lemmatized_words) \n"
   ]
  },
  {
   "cell_type": "code",
   "execution_count": 66,
   "metadata": {},
   "outputs": [
    {
     "name": "stdout",
     "output_type": "stream",
     "text": [
      "The lemmatized words using a POS tag:  ['larger', 'broncos', 'available', '35', 'inch', 'road', 'tire', 'able', 'drive', 'water', 'nearly', 'feet', '10', 'inch', 'deep.', 'independent', 'front', 'suspension', 'unlike', 'main', 'competitor', 'jeep', 'wrangler.', 'independent', 'suspension', 'use', 'almost', 'modern', 'passenger', 'vehicles', 'generally', 'provide', 'smoother', 'ride', 'better', 'onroad', 'handle', 'single', 'solid', 'axle.', 'still', 'solid', 'axle', 'back', 'though', 'like', 'pickup', 'truck', 'design', 'suit', 'hard', 'use.', 'like', 'wrangler', 'two', 'four', 'bronco', 'removable', 'roof', 'doors.', 'buyers', 'able', 'choose', 'either', 'hard', 'roof', 'remove', 'section', 'cloth', 'top', 'both.', 'unlike', 'wrangler', 'though', 'bronco', 'doors', 'fit', 'inside', 'vehicle', 'removed.', 'bronco', 'available', 'choice', 'either', '10', 'speed', 'automatic', 'seven', 'speed', 'manual', 'transmission.', 'manual', 'transmission', 'six', 'gear', 'ordinary', 'drive', 'plus', 'seventh', 'low', 'speed', 'road', 'driving.', 'power', 'either', '270', 'horsepower', '2.3', 'liter', 'turbocharged', 'cylinder', 'engine', '310', 'horsepower', '2.7', 'liter', 'turbocharged', 'v6.', 'new', 'bronco', 'suvs', 'design', 'hard', 'road', 'use', 'bronco', 'sport', 'quite', 'hard', 'core', 'capabilities.', 'convenience', 'feature', 'truck', 'like', 'bronco.', 'base', 'engineer', 'similar', 'car', 'like', 'crossover', 'suvs', 'ford', 'say', 'still', 'intend', 'serious', 'road', 'use.', 'ford', 'engineer', 'boast', 'road', 'test', 'prototypes', 'put', 'include', 'drive', 'deep', 'sand', 'steep', 'incline', 'crawl', 'across', 'boulder', 'strew', 'trails.']\n"
     ]
    }
   ],
   "source": [
    "lemmatized_words_pos = [lemmatizer.lemmatize(word, pos = \"v\") for word in without_sw]\n",
    "print(\"The lemmatized words using a POS tag: \", lemmatized_words_pos) \n"
   ]
  },
  {
   "cell_type": "code",
   "execution_count": 67,
   "metadata": {},
   "outputs": [],
   "source": [
    "from textblob import TextBlob"
   ]
  },
  {
   "cell_type": "code",
   "execution_count": 68,
   "metadata": {},
   "outputs": [
    {
     "name": "stdout",
     "output_type": "stream",
     "text": [
      "Subjectivity is: 0.4042343073593074\n"
     ]
    }
   ],
   "source": [
    "Subjectivity= TextBlob(r4).sentiment.subjectivity\n",
    "print(\"Subjectivity is:\",Subjectivity)"
   ]
  },
  {
   "cell_type": "code",
   "execution_count": 69,
   "metadata": {},
   "outputs": [
    {
     "name": "stdout",
     "output_type": "stream",
     "text": [
      "Polarity is 0.11036255411255412\n"
     ]
    }
   ],
   "source": [
    "Polarity=TextBlob(r4).sentiment.polarity\n",
    "print(\"Polarity is\", Polarity)"
   ]
  },
  {
   "cell_type": "code",
   "execution_count": 70,
   "metadata": {},
   "outputs": [
    {
     "name": "stdout",
     "output_type": "stream",
     "text": [
      "Sentiment(polarity=0.11036255411255412, subjectivity=0.4042343073593074)\n"
     ]
    }
   ],
   "source": [
    "analysis = TextBlob(r4).sentiment\n",
    "print(analysis)"
   ]
  },
  {
   "cell_type": "code",
   "execution_count": null,
   "metadata": {},
   "outputs": [],
   "source": []
  },
  {
   "cell_type": "code",
   "execution_count": null,
   "metadata": {},
   "outputs": [],
   "source": []
  }
 ],
 "metadata": {
  "kernelspec": {
   "display_name": "Python 3",
   "language": "python",
   "name": "python3"
  },
  "language_info": {
   "codemirror_mode": {
    "name": "ipython",
    "version": 3
   },
   "file_extension": ".py",
   "mimetype": "text/x-python",
   "name": "python",
   "nbconvert_exporter": "python",
   "pygments_lexer": "ipython3",
   "version": "3.7.4"
  }
 },
 "nbformat": 4,
 "nbformat_minor": 2
}
