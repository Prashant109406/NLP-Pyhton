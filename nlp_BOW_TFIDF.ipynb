{
 "cells": [
  {
   "cell_type": "code",
   "execution_count": 1,
   "metadata": {},
   "outputs": [],
   "source": [
    "#Load the data\n",
    "#Use data_text = data[[‘headline_text’]], ‘data_text[‘index’]=data_text.index’\n",
    "\n",
    "import pandas as pd\n",
    "data = pd.read_csv('abcnews-date-text.csv', error_bad_lines=False);\n",
    "data_text = data[['headline_text']]\n",
    "data_text['index'] = data_text.index\n",
    "documents = data_text"
   ]
  },
  {
   "cell_type": "code",
   "execution_count": 2,
   "metadata": {},
   "outputs": [
    {
     "name": "stdout",
     "output_type": "stream",
     "text": [
      "1186018\n",
      "                                       headline_text  index\n",
      "0  aba decides against community broadcasting lic...      0\n",
      "1     act fire witnesses must be aware of defamation      1\n",
      "2     a g calls for infrastructure protection summit      2\n",
      "3           air nz staff in aust strike for pay rise      3\n",
      "4      air nz strike to affect australian travellers      4\n"
     ]
    }
   ],
   "source": [
    "print(len(documents))\n",
    "print(documents[:5])"
   ]
  },
  {
   "cell_type": "code",
   "execution_count": 12,
   "metadata": {},
   "outputs": [
    {
     "name": "stdout",
     "output_type": "stream",
     "text": [
      "[nltk_data] Downloading package wordnet to C:\\Users\\Prashant\n",
      "[nltk_data]     Mourya\\AppData\\Roaming\\nltk_data...\n",
      "[nltk_data]   Package wordnet is already up-to-date!\n"
     ]
    }
   ],
   "source": [
    "import gensim\n",
    "from gensim.utils import simple_preprocess\n",
    "from gensim.parsing.preprocessing import STOPWORDS\n",
    "from nltk.stem import WordNetLemmatizer, SnowballStemmer\n",
    "from nltk.stem.porter import *\n",
    "import numpy as np\n",
    "np.random.seed(2018)\n",
    "import nltk\n",
    "nltk.download('wordnet')\n",
    "stemmer = PorterStemmer()"
   ]
  },
  {
   "cell_type": "code",
   "execution_count": 13,
   "metadata": {},
   "outputs": [],
   "source": [
    "#Tokenize and lemmatize the text\n",
    "def lemmatize_stemming(text):\n",
    "    return stemmer.stem(WordNetLemmatizer().lemmatize(text, pos='v'))\n",
    "def preprocess(text):\n",
    "    result = []\n",
    "    for token in gensim.utils.simple_preprocess(text):\n",
    "        if token not in gensim.parsing.preprocessing.STOPWORDS and len(token) > 3:\n",
    "            result.append(lemmatize_stemming(token))\n",
    "    return result\n"
   ]
  },
  {
   "cell_type": "code",
   "execution_count": 14,
   "metadata": {},
   "outputs": [
    {
     "name": "stdout",
     "output_type": "stream",
     "text": [
      "original document: \n",
      "['ratepayers', 'group', 'wants', 'compulsory', 'local', 'govt', 'voting']\n",
      "\n",
      "\n",
      " tokenized and lemmatized document: \n",
      "['ratepay', 'group', 'want', 'compulsori', 'local', 'govt', 'vote']\n"
     ]
    }
   ],
   "source": [
    "doc_sample = documents[documents['index'] == 4310].values[0][0]\n",
    "print('original document: ')\n",
    "words = []\n",
    "for word in doc_sample.split(' '):\n",
    "    words.append(word)\n",
    "print(words)\n",
    "print('\\n\\n tokenized and lemmatized document: ')\n",
    "print(preprocess(doc_sample))"
   ]
  },
  {
   "cell_type": "code",
   "execution_count": 15,
   "metadata": {},
   "outputs": [
    {
     "data": {
      "text/plain": [
       "0               [decid, commun, broadcast, licenc]\n",
       "1                               [wit, awar, defam]\n",
       "2           [call, infrastructur, protect, summit]\n",
       "3                      [staff, aust, strike, rise]\n",
       "4             [strike, affect, australian, travel]\n",
       "5               [ambiti, olsson, win, tripl, jump]\n",
       "6           [antic, delight, record, break, barca]\n",
       "7    [aussi, qualifi, stosur, wast, memphi, match]\n",
       "8            [aust, address, secur, council, iraq]\n",
       "9                         [australia, lock, timet]\n",
       "Name: headline_text, dtype: object"
      ]
     },
     "execution_count": 15,
     "metadata": {},
     "output_type": "execute_result"
    }
   ],
   "source": [
    "processed_docs = documents['headline_text'].map(preprocess)\n",
    "processed_docs[:10]"
   ]
  },
  {
   "cell_type": "code",
   "execution_count": 16,
   "metadata": {},
   "outputs": [
    {
     "name": "stdout",
     "output_type": "stream",
     "text": [
      "0 broadcast\n",
      "1 commun\n",
      "2 decid\n",
      "3 licenc\n",
      "4 awar\n",
      "5 defam\n",
      "6 wit\n",
      "7 call\n",
      "8 infrastructur\n",
      "9 protect\n",
      "10 summit\n"
     ]
    }
   ],
   "source": [
    "#Create a dictionary as ‘dictionary=genism.corpora.Dictionary(processed_docs)’\n",
    "dictionary = gensim.corpora.Dictionary(processed_docs)\n",
    "count = 0\n",
    "for k, v in dictionary.iteritems():\n",
    "    print(k, v)\n",
    "    count += 1\n",
    "    if count > 10:\n",
    "        break"
   ]
  },
  {
   "cell_type": "code",
   "execution_count": 17,
   "metadata": {},
   "outputs": [],
   "source": [
    "#Filter extremes from dictionary\n",
    "dictionary.filter_extremes(no_below=15, no_above=0.5, keep_n=100000)"
   ]
  },
  {
   "cell_type": "code",
   "execution_count": 18,
   "metadata": {},
   "outputs": [
    {
     "data": {
      "text/plain": [
       "[(162, 1), (240, 1), (292, 1), (589, 1), (839, 1), (3575, 1), (3576, 1)]"
      ]
     },
     "execution_count": 18,
     "metadata": {},
     "output_type": "execute_result"
    }
   ],
   "source": [
    "#Create a ‘bow_corpus’ using ‘doc2bow(doc)’ for doc in processed document\n",
    "bow_corpus = [dictionary.doc2bow(doc) for doc in processed_docs]\n",
    "bow_corpus[4310]"
   ]
  },
  {
   "cell_type": "code",
   "execution_count": 19,
   "metadata": {},
   "outputs": [
    {
     "name": "stdout",
     "output_type": "stream",
     "text": [
      "Word 162 (\"govt\") appears 1 time.\n",
      "Word 240 (\"group\") appears 1 time.\n",
      "Word 292 (\"vote\") appears 1 time.\n",
      "Word 589 (\"local\") appears 1 time.\n",
      "Word 839 (\"want\") appears 1 time.\n",
      "Word 3575 (\"compulsori\") appears 1 time.\n",
      "Word 3576 (\"ratepay\") appears 1 time.\n"
     ]
    }
   ],
   "source": [
    "bow_doc_4310 = bow_corpus[4310]\n",
    "for i in range(len(bow_doc_4310)):\n",
    "    print(\"Word {} (\\\"{}\\\") appears {} time.\".format(bow_doc_4310[i][0], \n",
    "                                               dictionary[bow_doc_4310[i][0]], \n",
    "bow_doc_4310[i][1]))"
   ]
  },
  {
   "cell_type": "code",
   "execution_count": 20,
   "metadata": {},
   "outputs": [
    {
     "name": "stdout",
     "output_type": "stream",
     "text": [
      "[(0, 0.5860586362613176),\n",
      " (1, 0.3854657616151764),\n",
      " (2, 0.5006618583937537),\n",
      " (3, 0.5072367544211179)]\n"
     ]
    }
   ],
   "source": [
    "#From genism import corpora, models and use Tfidf for the ‘bow_corpus’\n",
    "from gensim import corpora, models\n",
    "tfidf = models.TfidfModel(bow_corpus)\n",
    "corpus_tfidf = tfidf[bow_corpus]\n",
    "from pprint import pprint\n",
    "for doc in corpus_tfidf:\n",
    "    pprint(doc)\n",
    "    break"
   ]
  },
  {
   "cell_type": "code",
   "execution_count": 21,
   "metadata": {},
   "outputs": [],
   "source": [
    "#Create a lda_model\n",
    "lda_model = gensim.models.LdaMulticore(bow_corpus, num_topics=10, id2word=dictionary, passes=2, workers=2)"
   ]
  },
  {
   "cell_type": "code",
   "execution_count": 22,
   "metadata": {},
   "outputs": [
    {
     "name": "stdout",
     "output_type": "stream",
     "text": [
      "Topic: 0 \n",
      "Words: 0.027*\"market\" + 0.023*\"school\" + 0.016*\"investig\" + 0.015*\"interview\" + 0.014*\"street\" + 0.014*\"fall\" + 0.014*\"student\" + 0.012*\"scott\" + 0.011*\"share\" + 0.010*\"week\"\n",
      "Topic: 1 \n",
      "Words: 0.020*\"donald\" + 0.018*\"plan\" + 0.017*\"canberra\" + 0.015*\"water\" + 0.013*\"feder\" + 0.012*\"council\" + 0.010*\"drum\" + 0.010*\"industri\" + 0.010*\"chang\" + 0.010*\"park\"\n",
      "Topic: 2 \n",
      "Words: 0.042*\"australia\" + 0.037*\"trump\" + 0.024*\"world\" + 0.016*\"open\" + 0.015*\"tasmania\" + 0.014*\"australian\" + 0.014*\"final\" + 0.012*\"win\" + 0.011*\"break\" + 0.011*\"record\"\n",
      "Topic: 3 \n",
      "Words: 0.029*\"queensland\" + 0.021*\"help\" + 0.017*\"bushfir\" + 0.017*\"miss\" + 0.015*\"royal\" + 0.015*\"tasmanian\" + 0.014*\"bank\" + 0.013*\"victoria\" + 0.013*\"report\" + 0.012*\"commiss\"\n",
      "Topic: 4 \n",
      "Words: 0.024*\"news\" + 0.022*\"women\" + 0.021*\"live\" + 0.021*\"warn\" + 0.020*\"coast\" + 0.019*\"health\" + 0.016*\"rural\" + 0.015*\"busi\" + 0.015*\"countri\" + 0.013*\"gold\"\n",
      "Topic: 5 \n",
      "Words: 0.053*\"polic\" + 0.049*\"say\" + 0.024*\"kill\" + 0.023*\"attack\" + 0.021*\"crash\" + 0.018*\"die\" + 0.017*\"shoot\" + 0.017*\"perth\" + 0.015*\"melbourn\" + 0.014*\"woman\"\n",
      "Topic: 6 \n",
      "Words: 0.013*\"show\" + 0.013*\"liber\" + 0.012*\"morrison\" + 0.012*\"wall\" + 0.011*\"young\" + 0.011*\"christma\" + 0.010*\"station\" + 0.010*\"beach\" + 0.009*\"train\" + 0.009*\"research\"\n",
      "Topic: 7 \n",
      "Words: 0.036*\"elect\" + 0.032*\"govern\" + 0.025*\"china\" + 0.015*\"rise\" + 0.014*\"australia\" + 0.012*\"million\" + 0.011*\"citi\" + 0.011*\"presid\" + 0.011*\"trade\" + 0.010*\"deal\"\n",
      "Topic: 8 \n",
      "Words: 0.034*\"year\" + 0.031*\"charg\" + 0.027*\"court\" + 0.025*\"murder\" + 0.018*\"face\" + 0.017*\"jail\" + 0.016*\"accus\" + 0.014*\"peopl\" + 0.014*\"death\" + 0.014*\"trial\"\n",
      "Topic: 9 \n",
      "Words: 0.020*\"south\" + 0.019*\"adelaid\" + 0.018*\"north\" + 0.016*\"protest\" + 0.014*\"hospit\" + 0.014*\"labor\" + 0.011*\"west\" + 0.011*\"worker\" + 0.010*\"stori\" + 0.010*\"state\"\n"
     ]
    }
   ],
   "source": [
    " #Print the topics using BOW\n",
    "for idx, topic in lda_model.print_topics(-1):\n",
    "    print('Topic: {} \\nWords: {}'.format(idx, topic))"
   ]
  },
  {
   "cell_type": "code",
   "execution_count": 23,
   "metadata": {},
   "outputs": [
    {
     "name": "stdout",
     "output_type": "stream",
     "text": [
      "Topic: 0 Word: 0.014*\"drum\" + 0.010*\"govern\" + 0.009*\"rural\" + 0.009*\"tuesday\" + 0.008*\"sport\" + 0.008*\"pacif\" + 0.006*\"august\" + 0.006*\"age\" + 0.006*\"care\" + 0.006*\"discuss\"\n",
      "Topic: 1 Word: 0.019*\"news\" + 0.010*\"australia\" + 0.009*\"world\" + 0.008*\"final\" + 0.007*\"friday\" + 0.007*\"monday\" + 0.007*\"leagu\" + 0.007*\"nation\" + 0.007*\"scott\" + 0.007*\"test\"\n",
      "Topic: 2 Word: 0.025*\"trump\" + 0.013*\"market\" + 0.009*\"guilti\" + 0.009*\"price\" + 0.009*\"street\" + 0.008*\"climat\" + 0.007*\"wednesday\" + 0.007*\"share\" + 0.007*\"australian\" + 0.007*\"thursday\"\n",
      "Topic: 3 Word: 0.014*\"interview\" + 0.008*\"david\" + 0.007*\"east\" + 0.007*\"bushfir\" + 0.007*\"speak\" + 0.006*\"histori\" + 0.006*\"extend\" + 0.006*\"june\" + 0.006*\"abbott\" + 0.006*\"alan\"\n",
      "Topic: 4 Word: 0.011*\"royal\" + 0.010*\"kill\" + 0.008*\"commiss\" + 0.007*\"liber\" + 0.007*\"christma\" + 0.006*\"dead\" + 0.006*\"crash\" + 0.005*\"marriag\" + 0.005*\"syria\" + 0.005*\"quiz\"\n",
      "Topic: 5 Word: 0.008*\"juli\" + 0.008*\"financ\" + 0.007*\"insid\" + 0.006*\"america\" + 0.006*\"territori\" + 0.005*\"newcastl\" + 0.005*\"central\" + 0.005*\"drone\" + 0.005*\"donat\" + 0.005*\"johnson\"\n",
      "Topic: 6 Word: 0.011*\"coast\" + 0.011*\"gold\" + 0.009*\"crash\" + 0.008*\"road\" + 0.008*\"weather\" + 0.006*\"driver\" + 0.006*\"queensland\" + 0.006*\"truck\" + 0.006*\"violenc\" + 0.006*\"octob\"\n",
      "Topic: 7 Word: 0.013*\"stori\" + 0.012*\"assault\" + 0.010*\"turnbul\" + 0.008*\"sexual\" + 0.008*\"mental\" + 0.007*\"novemb\" + 0.006*\"malcolm\" + 0.006*\"health\" + 0.005*\"mount\" + 0.005*\"william\"\n",
      "Topic: 8 Word: 0.018*\"polic\" + 0.017*\"murder\" + 0.015*\"charg\" + 0.011*\"court\" + 0.010*\"woman\" + 0.009*\"jail\" + 0.009*\"sentenc\" + 0.009*\"shoot\" + 0.009*\"arrest\" + 0.008*\"death\"\n",
      "Topic: 9 Word: 0.013*\"countri\" + 0.010*\"hour\" + 0.009*\"donald\" + 0.007*\"elect\" + 0.007*\"fund\" + 0.006*\"feder\" + 0.006*\"budget\" + 0.005*\"plan\" + 0.005*\"labor\" + 0.005*\"council\"\n"
     ]
    }
   ],
   "source": [
    "#Run LDA using lda_model_tfidf\n",
    "lda_model_tfidf = gensim.models.LdaMulticore(corpus_tfidf, num_topics=10, id2word=dictionary, passes=2, workers=4)\n",
    "for idx, topic in lda_model_tfidf.print_topics(-1):\n",
    "    print('Topic: {} Word: {}'.format(idx, topic))"
   ]
  },
  {
   "cell_type": "code",
   "execution_count": 24,
   "metadata": {},
   "outputs": [
    {
     "data": {
      "text/plain": [
       "['ratepay', 'group', 'want', 'compulsori', 'local', 'govt', 'vote']"
      ]
     },
     "execution_count": 24,
     "metadata": {},
     "output_type": "execute_result"
    }
   ],
   "source": [
    "processed_docs[4310]"
   ]
  },
  {
   "cell_type": "code",
   "execution_count": 25,
   "metadata": {},
   "outputs": [
    {
     "name": "stdout",
     "output_type": "stream",
     "text": [
      "\n",
      "Score: 0.6183049082756042\t \n",
      "Topic: 0.020*\"donald\" + 0.018*\"plan\" + 0.017*\"canberra\" + 0.015*\"water\" + 0.013*\"feder\" + 0.012*\"council\" + 0.010*\"drum\" + 0.010*\"industri\" + 0.010*\"chang\" + 0.010*\"park\"\n",
      "\n",
      "Score: 0.15091852843761444\t \n",
      "Topic: 0.013*\"show\" + 0.013*\"liber\" + 0.012*\"morrison\" + 0.012*\"wall\" + 0.011*\"young\" + 0.011*\"christma\" + 0.010*\"station\" + 0.010*\"beach\" + 0.009*\"train\" + 0.009*\"research\"\n",
      "\n",
      "Score: 0.14322426915168762\t \n",
      "Topic: 0.024*\"news\" + 0.022*\"women\" + 0.021*\"live\" + 0.021*\"warn\" + 0.020*\"coast\" + 0.019*\"health\" + 0.016*\"rural\" + 0.015*\"busi\" + 0.015*\"countri\" + 0.013*\"gold\"\n",
      "\n",
      "Score: 0.012509899213910103\t \n",
      "Topic: 0.020*\"south\" + 0.019*\"adelaid\" + 0.018*\"north\" + 0.016*\"protest\" + 0.014*\"hospit\" + 0.014*\"labor\" + 0.011*\"west\" + 0.011*\"worker\" + 0.010*\"stori\" + 0.010*\"state\"\n",
      "\n",
      "Score: 0.012507260777056217\t \n",
      "Topic: 0.034*\"year\" + 0.031*\"charg\" + 0.027*\"court\" + 0.025*\"murder\" + 0.018*\"face\" + 0.017*\"jail\" + 0.016*\"accus\" + 0.014*\"peopl\" + 0.014*\"death\" + 0.014*\"trial\"\n",
      "\n",
      "Score: 0.01250708382576704\t \n",
      "Topic: 0.029*\"queensland\" + 0.021*\"help\" + 0.017*\"bushfir\" + 0.017*\"miss\" + 0.015*\"royal\" + 0.015*\"tasmanian\" + 0.014*\"bank\" + 0.013*\"victoria\" + 0.013*\"report\" + 0.012*\"commiss\"\n",
      "\n",
      "Score: 0.012507013976573944\t \n",
      "Topic: 0.053*\"polic\" + 0.049*\"say\" + 0.024*\"kill\" + 0.023*\"attack\" + 0.021*\"crash\" + 0.018*\"die\" + 0.017*\"shoot\" + 0.017*\"perth\" + 0.015*\"melbourn\" + 0.014*\"woman\"\n",
      "\n",
      "Score: 0.01250701304525137\t \n",
      "Topic: 0.027*\"market\" + 0.023*\"school\" + 0.016*\"investig\" + 0.015*\"interview\" + 0.014*\"street\" + 0.014*\"fall\" + 0.014*\"student\" + 0.012*\"scott\" + 0.011*\"share\" + 0.010*\"week\"\n",
      "\n",
      "Score: 0.01250701304525137\t \n",
      "Topic: 0.042*\"australia\" + 0.037*\"trump\" + 0.024*\"world\" + 0.016*\"open\" + 0.015*\"tasmania\" + 0.014*\"australian\" + 0.014*\"final\" + 0.012*\"win\" + 0.011*\"break\" + 0.011*\"record\"\n",
      "\n",
      "Score: 0.01250701304525137\t \n",
      "Topic: 0.036*\"elect\" + 0.032*\"govern\" + 0.025*\"china\" + 0.015*\"rise\" + 0.014*\"australia\" + 0.012*\"million\" + 0.011*\"citi\" + 0.011*\"presid\" + 0.011*\"trade\" + 0.010*\"deal\"\n"
     ]
    }
   ],
   "source": [
    "#Evaluate the performance by classifying sample document using LDA BOW\n",
    "for index, score in sorted(lda_model[bow_corpus[4310]], key=lambda tup: -1*tup[1]):\n",
    "    print(\"\\nScore: {}\\t \\nTopic: {}\".format(score, lda_model.print_topic(index, 10)))"
   ]
  },
  {
   "cell_type": "code",
   "execution_count": 26,
   "metadata": {},
   "outputs": [
    {
     "name": "stdout",
     "output_type": "stream",
     "text": [
      "\n",
      "Score: 0.5480542182922363\t \n",
      "Topic: 0.013*\"countri\" + 0.010*\"hour\" + 0.009*\"donald\" + 0.007*\"elect\" + 0.007*\"fund\" + 0.006*\"feder\" + 0.006*\"budget\" + 0.005*\"plan\" + 0.005*\"labor\" + 0.005*\"council\"\n",
      "\n",
      "Score: 0.18370500206947327\t \n",
      "Topic: 0.011*\"royal\" + 0.010*\"kill\" + 0.008*\"commiss\" + 0.007*\"liber\" + 0.007*\"christma\" + 0.006*\"dead\" + 0.006*\"crash\" + 0.005*\"marriag\" + 0.005*\"syria\" + 0.005*\"quiz\"\n",
      "\n",
      "Score: 0.1806897073984146\t \n",
      "Topic: 0.008*\"juli\" + 0.008*\"financ\" + 0.007*\"insid\" + 0.006*\"america\" + 0.006*\"territori\" + 0.005*\"newcastl\" + 0.005*\"central\" + 0.005*\"drone\" + 0.005*\"donat\" + 0.005*\"johnson\"\n",
      "\n",
      "Score: 0.012508109211921692\t \n",
      "Topic: 0.025*\"trump\" + 0.013*\"market\" + 0.009*\"guilti\" + 0.009*\"price\" + 0.009*\"street\" + 0.008*\"climat\" + 0.007*\"wednesday\" + 0.007*\"share\" + 0.007*\"australian\" + 0.007*\"thursday\"\n",
      "\n",
      "Score: 0.012508026324212551\t \n",
      "Topic: 0.014*\"drum\" + 0.010*\"govern\" + 0.009*\"rural\" + 0.009*\"tuesday\" + 0.008*\"sport\" + 0.008*\"pacif\" + 0.006*\"august\" + 0.006*\"age\" + 0.006*\"care\" + 0.006*\"discuss\"\n",
      "\n",
      "Score: 0.012507537379860878\t \n",
      "Topic: 0.013*\"stori\" + 0.012*\"assault\" + 0.010*\"turnbul\" + 0.008*\"sexual\" + 0.008*\"mental\" + 0.007*\"novemb\" + 0.006*\"malcolm\" + 0.006*\"health\" + 0.005*\"mount\" + 0.005*\"william\"\n",
      "\n",
      "Score: 0.012507045641541481\t \n",
      "Topic: 0.011*\"coast\" + 0.011*\"gold\" + 0.009*\"crash\" + 0.008*\"road\" + 0.008*\"weather\" + 0.006*\"driver\" + 0.006*\"queensland\" + 0.006*\"truck\" + 0.006*\"violenc\" + 0.006*\"octob\"\n",
      "\n",
      "Score: 0.012506975792348385\t \n",
      "Topic: 0.018*\"polic\" + 0.017*\"murder\" + 0.015*\"charg\" + 0.011*\"court\" + 0.010*\"woman\" + 0.009*\"jail\" + 0.009*\"sentenc\" + 0.009*\"shoot\" + 0.009*\"arrest\" + 0.008*\"death\"\n",
      "\n",
      "Score: 0.01250678300857544\t \n",
      "Topic: 0.014*\"interview\" + 0.008*\"david\" + 0.007*\"east\" + 0.007*\"bushfir\" + 0.007*\"speak\" + 0.006*\"histori\" + 0.006*\"extend\" + 0.006*\"june\" + 0.006*\"abbott\" + 0.006*\"alan\"\n",
      "\n",
      "Score: 0.012506588362157345\t \n",
      "Topic: 0.019*\"news\" + 0.010*\"australia\" + 0.009*\"world\" + 0.008*\"final\" + 0.007*\"friday\" + 0.007*\"monday\" + 0.007*\"leagu\" + 0.007*\"nation\" + 0.007*\"scott\" + 0.007*\"test\"\n"
     ]
    }
   ],
   "source": [
    "#Evaluate the performance by classifying sample document using LDA Tfidf\n",
    "for index, score in sorted(lda_model_tfidf[bow_corpus[4310]], key=lambda tup: -1*tup[1]):\n",
    "    print(\"\\nScore: {}\\t \\nTopic: {}\".format(score, lda_model_tfidf.print_topic(index, 10)))"
   ]
  },
  {
   "cell_type": "code",
   "execution_count": 31,
   "metadata": {},
   "outputs": [
    {
     "name": "stdout",
     "output_type": "stream",
     "text": [
      "Score: 0.35030826926231384\t Topic: 0.027*\"market\" + 0.023*\"school\" + 0.016*\"investig\" + 0.015*\"interview\" + 0.014*\"street\"\n",
      "Score: 0.18363629281520844\t Topic: 0.034*\"year\" + 0.031*\"charg\" + 0.027*\"court\" + 0.025*\"murder\" + 0.018*\"face\"\n",
      "Score: 0.1830003261566162\t Topic: 0.036*\"elect\" + 0.032*\"govern\" + 0.025*\"china\" + 0.015*\"rise\" + 0.014*\"australia\"\n",
      "Score: 0.18286290764808655\t Topic: 0.053*\"polic\" + 0.049*\"say\" + 0.024*\"kill\" + 0.023*\"attack\" + 0.021*\"crash\"\n",
      "Score: 0.016699975356459618\t Topic: 0.042*\"australia\" + 0.037*\"trump\" + 0.024*\"world\" + 0.016*\"open\" + 0.015*\"tasmania\"\n",
      "Score: 0.016699878498911858\t Topic: 0.013*\"show\" + 0.013*\"liber\" + 0.012*\"morrison\" + 0.012*\"wall\" + 0.011*\"young\"\n",
      "Score: 0.0166997779160738\t Topic: 0.020*\"donald\" + 0.018*\"plan\" + 0.017*\"canberra\" + 0.015*\"water\" + 0.013*\"feder\"\n",
      "Score: 0.016697514802217484\t Topic: 0.029*\"queensland\" + 0.021*\"help\" + 0.017*\"bushfir\" + 0.017*\"miss\" + 0.015*\"royal\"\n",
      "Score: 0.016697514802217484\t Topic: 0.024*\"news\" + 0.022*\"women\" + 0.021*\"live\" + 0.021*\"warn\" + 0.020*\"coast\"\n",
      "Score: 0.016697514802217484\t Topic: 0.020*\"south\" + 0.019*\"adelaid\" + 0.018*\"north\" + 0.016*\"protest\" + 0.014*\"hospit\"\n"
     ]
    }
   ],
   "source": [
    "#Test the model on unseen document\n",
    "unseen_document = 'The creation of the vacuum tube gave way to the first computing mechanism.'\n",
    "bow_vector = dictionary.doc2bow(preprocess(unseen_document))\n",
    "for index, score in sorted(lda_model[bow_vector], key=lambda tup: -1*tup[1]):\n",
    "    print(\"Score: {}\\t Topic: {}\".format(score, lda_model.print_topic(index, 5)))"
   ]
  },
  {
   "cell_type": "code",
   "execution_count": null,
   "metadata": {},
   "outputs": [],
   "source": []
  }
 ],
 "metadata": {
  "kernelspec": {
   "display_name": "Python 3",
   "language": "python",
   "name": "python3"
  },
  "language_info": {
   "codemirror_mode": {
    "name": "ipython",
    "version": 3
   },
   "file_extension": ".py",
   "mimetype": "text/x-python",
   "name": "python",
   "nbconvert_exporter": "python",
   "pygments_lexer": "ipython3",
   "version": "3.7.4"
  }
 },
 "nbformat": 4,
 "nbformat_minor": 2
}
